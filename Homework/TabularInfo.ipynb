{
 "cells": [
  {
   "cell_type": "code",
   "execution_count": 2,
   "id": "836322a7",
   "metadata": {},
   "outputs": [],
   "source": [
    "from tabulate import tabulate\n",
    "from IPython.core.display import display, HTML"
   ]
  },
  {
   "cell_type": "code",
   "execution_count": 3,
   "id": "da1d0ec2",
   "metadata": {},
   "outputs": [],
   "source": [
    "data = [['Dataset', 'First Row Col Names?', 'Comma Separated?', 'Num of Rows', 'Num of Cols', 'Size'],\n",
    "       ['Bank Account Closing', 'Yes', 'Yes', 165035, 14, '12MB'],\n",
    "       ['Metastatic Cancer Diagnosis', 'Yes', 'Yes', 12906, 83, '11MB'],\n",
    "       ['Higgs Boson', 'Yes', 'Yes', 250001, 33, '53MB'],\n",
    "       ['Marketing Response', 'Yes', 'Yes', 145232, 1936, '922MB'],\n",
    "       ['Default Prediction', 'Yes', 'Yes', 458913, 190, '16GB'],\n",
    "       ['Customer Satisfaction', 'Yes', 'Yes', 76021, 371, '57MB'],\n",
    "       ['Product Recommendation', 'Yes', 'Yes', 11081212, 48, '1.8GB'],\n",
    "       ['Student Performance', 'Yes', 'Yes', 26296946, 20, '4.7GB'],\n",
    "       ['Horse Health', 'Yes', 'Yes', 1235, 29, '229kB'],\n",
    "       ['Software Defects', 'Yes', 'Yes', 101763, 23, '11MB'],\n",
    "       ['Cirrihosis Outcomes', 'Yes', 'Yes', 7905, 20, '733.5kB'],\n",
    "       ['Mushroom Classification', 'Yes', 'Yes', 1000, 23, '374kB'],\n",
    "       ['Diabetes Prediction', 'Yes', 'Yes', 601, 10, '21K']]"
   ]
  },
  {
   "cell_type": "code",
   "execution_count": 4,
   "id": "36aeddff",
   "metadata": {},
   "outputs": [
    {
     "data": {
      "text/html": [
       "<table>\n",
       "<thead>\n",
       "<tr><th>Dataset                    </th><th>First Row Col Names?  </th><th>Comma Separated?  </th><th style=\"text-align: right;\">  Num of Rows</th><th style=\"text-align: right;\">  Num of Cols</th><th>Size   </th></tr>\n",
       "</thead>\n",
       "<tbody>\n",
       "<tr><td>Bank Account Closing       </td><td>Yes                   </td><td>Yes               </td><td style=\"text-align: right;\">       165035</td><td style=\"text-align: right;\">           14</td><td>12MB   </td></tr>\n",
       "<tr><td>Metastatic Cancer Diagnosis</td><td>Yes                   </td><td>Yes               </td><td style=\"text-align: right;\">        12906</td><td style=\"text-align: right;\">           83</td><td>11MB   </td></tr>\n",
       "<tr><td>Higgs Boson                </td><td>Yes                   </td><td>Yes               </td><td style=\"text-align: right;\">       250001</td><td style=\"text-align: right;\">           33</td><td>53MB   </td></tr>\n",
       "<tr><td>Marketing Response         </td><td>Yes                   </td><td>Yes               </td><td style=\"text-align: right;\">       145232</td><td style=\"text-align: right;\">         1936</td><td>922MB  </td></tr>\n",
       "<tr><td>Default Prediction         </td><td>Yes                   </td><td>Yes               </td><td style=\"text-align: right;\">       458913</td><td style=\"text-align: right;\">          190</td><td>16GB   </td></tr>\n",
       "<tr><td>Customer Satisfaction      </td><td>Yes                   </td><td>Yes               </td><td style=\"text-align: right;\">        76021</td><td style=\"text-align: right;\">          371</td><td>57MB   </td></tr>\n",
       "<tr><td>Product Recommendation     </td><td>Yes                   </td><td>Yes               </td><td style=\"text-align: right;\">     11081212</td><td style=\"text-align: right;\">           48</td><td>1.8GB  </td></tr>\n",
       "<tr><td>Student Performance        </td><td>Yes                   </td><td>Yes               </td><td style=\"text-align: right;\">     26296946</td><td style=\"text-align: right;\">           20</td><td>4.7GB  </td></tr>\n",
       "<tr><td>Horse Health               </td><td>Yes                   </td><td>Yes               </td><td style=\"text-align: right;\">         1235</td><td style=\"text-align: right;\">           29</td><td>229kB  </td></tr>\n",
       "<tr><td>Software Defects           </td><td>Yes                   </td><td>Yes               </td><td style=\"text-align: right;\">       101763</td><td style=\"text-align: right;\">           23</td><td>11MB   </td></tr>\n",
       "<tr><td>Cirrihosis Outcomes        </td><td>Yes                   </td><td>Yes               </td><td style=\"text-align: right;\">         7905</td><td style=\"text-align: right;\">           20</td><td>733.5kB</td></tr>\n",
       "<tr><td>Mushroom Classification    </td><td>Yes                   </td><td>Yes               </td><td style=\"text-align: right;\">         1000</td><td style=\"text-align: right;\">           23</td><td>374kB  </td></tr>\n",
       "<tr><td>Diabetes Prediction        </td><td>Yes                   </td><td>Yes               </td><td style=\"text-align: right;\">          601</td><td style=\"text-align: right;\">           10</td><td>21K    </td></tr>\n",
       "</tbody>\n",
       "</table>"
      ],
      "text/plain": [
       "<IPython.core.display.HTML object>"
      ]
     },
     "metadata": {},
     "output_type": "display_data"
    }
   ],
   "source": [
    "table = (tabulate(data,headers='firstrow',tablefmt='html'))\n",
    "display(HTML(table))"
   ]
  },
  {
   "cell_type": "code",
   "execution_count": null,
   "id": "5ae43885",
   "metadata": {},
   "outputs": [],
   "source": []
  }
 ],
 "metadata": {
  "kernelspec": {
   "display_name": "Python 3 (ipykernel)",
   "language": "python",
   "name": "python3"
  },
  "language_info": {
   "codemirror_mode": {
    "name": "ipython",
    "version": 3
   },
   "file_extension": ".py",
   "mimetype": "text/x-python",
   "name": "python",
   "nbconvert_exporter": "python",
   "pygments_lexer": "ipython3",
   "version": "3.10.12"
  }
 },
 "nbformat": 4,
 "nbformat_minor": 5
}
