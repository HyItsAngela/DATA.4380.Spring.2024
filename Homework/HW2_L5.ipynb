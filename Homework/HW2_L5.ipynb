{
 "cells": [
  {
   "cell_type": "markdown",
   "id": "8588b4b3",
   "metadata": {},
   "source": [
    "# Unix Shell\n",
    "\n",
    "There is a lot that can be done on the Unix shell command prompt. For homework, we will do some useful manipulations of CSV files.\n",
    "\n",
    "There is plenty of material online that will help you figure out how to do various tasks on the command line. Some example resources I found by googling:\n",
    "\n",
    "* Paths and Wildcards: https://www.warp.dev/terminus/linux-wildcards\n",
    "* General introduction to shell: https://github-pages.ucl.ac.uk/RCPSTrainingMaterials/HPCandHTCusingLegion/2_intro_to_shell.html\n",
    "* Manual pages: https://www.geeksforgeeks.org/linux-man-page-entries-different-types/?ref=ml_lbp\n",
    "* Chaining commands: https://www.geeksforgeeks.org/chaining-commands-in-linux/?ref=ml_lbp\n",
    "* Piping: https://www.geeksforgeeks.org/piping-in-unix-or-linux/\n",
    "* Using sed: https://www.geeksforgeeks.org/sed-command-linux-set-2/?ref=ml_lbp\n",
    "* Various Unix commands: https://www.geeksforgeeks.org/linux-commands/?ref=lbp\n",
    "* Cheat sheets:\n",
    "    * https://www.stationx.net/unix-commands-cheat-sheet/\n",
    "    * https://cheatography.com/davechild/cheat-sheets/linux-command-line/\n",
    "    * https://www.theknowledgeacademy.com/blog/unix-commands-cheat-sheet/\n",
    "    \n",
    "These aren't necessarily the best resources. Feel free to search for better ones. Also, don't forget that Unix has built-in manual pages for all of its commands. Just type `man <command>` at the command prompt. Use the space-bar to scroll through the documentation and \"q\" to exit."
   ]
  },
  {
   "cell_type": "markdown",
   "id": "42d7f0e0",
   "metadata": {},
   "source": [
    "## Homework\n",
    "\n",
    "Perform all of these tasks on the Unix command prompt. Some may require several commands. Many will require chaining commands together. Once you figure out how to perform the task, copy paste the command(s) here.  \n",
    "\n",
    "1. After unziping the Kaggle CSV files, make a new directory for the original zip files, and move the files there. In case you accidentally mess up one of the CSV files, you'll be able unzip the data again. \n",
    "\n",
    "Hint: use `mkdir` and `mv` commands with appropriate wildcards.\n",
    "\n",
    "2. The \"diabetes_prediction_dataset.csv\" file has a lot of entries. Create 3 new CSV files, each with about 1/3 of the data.\n",
    "\n",
    "Hints: \n",
    "* Use `head` to get first line.  \n",
    "* First create 3 files with just the first line by redirecting output of `head` into a file using `>`.\n",
    "* Use `wc` to count the number of entries\n",
    "* Chain/pipe `head` and `tail` to select specific lines, redirecting output to append to the 3 files you created using `>>`.\n",
    "\n",
    "3. Create 2 new CSV files from `Heart_Disease_Prediction.csv`, one containing rows with \"Presence\" label and another with \"Absence\" label. Make sure that the first line of each file contains the field names. \n",
    "\n",
    "Hints: \n",
    "* Use `head` to get first line.  \n",
    "* First create 2 files with just the first line by redirecting output of `head` into a file using `>`.\n",
    "* Use `grep` to select lines that contain \"Absence\" or \"Presence\" and append the output to the appropriate file created in the previous step.\n",
    "\n",
    "4. What fraction of cars in `car_web_scraped_dataset.csv` have had no accidents?\n",
    "\n",
    "Hints:\n",
    "* Use `grep` to select the appropriate lines.\n",
    "* Pipe the output of grep into `wc` (using `|`) to count the lines.\n",
    "\n",
    "5. Make the following replacements in `Housing.csv`, output the result into a new CSV:\n",
    "\n",
    "* yes -> 1\n",
    "* no -> 0\n",
    "* unfurnished -> 0\n",
    "* furnished -> 1\n",
    "* semi-furnished -> 2\n",
    "    \n",
    "Hints:\n",
    "* Use `sed` to do the replacement.\n",
    "* Use pipes to chain multiple `sed` commands.\n",
    "* To avoid replacing \"unfurnished\" or \"semi-furnished\" when performing the \"furnished\" replacement, try replacing \",furnished\" with \",1\".\n",
    "\n",
    "6. Create a new CSV files from `Mall_Customers`, removing \"CustomerID\" column.\n",
    "\n",
    "Hints:\n",
    "* Use `cut` command\n",
    "* Default separator for `cut` is the space character. For CSV, you have to use option `-d ','`.\n",
    "\n",
    "7. Create a new file that contains the sum of the following fields for each row:\n",
    "    * Research Quality Score\n",
    "    * Industry Score\n",
    "    * International Outlook\n",
    "    * Research Environment Score\n",
    "    \n",
    "Hints:\n",
    "* Use `cut` to select the correct columns.\n",
    "* Use `tr` to replace ',' with '+'.\n",
    "* Pipe output into `bc` to compute the sum.\n",
    "\n",
    "8. Sort the \"cancer patient data sets.csv\" file by age. Make sure the output is a readable CSV file.\n",
    "\n",
    "Hints:\n",
    "* Use sort with `-n`, `-t`, and `-k` options. "
   ]
  },
  {
   "cell_type": "markdown",
   "id": "6166519c",
   "metadata": {},
   "source": [
    "## Question 1: File Prep"
   ]
  },
  {
   "cell_type": "code",
   "execution_count": null,
   "id": "ed3ceaaa",
   "metadata": {},
   "outputs": [],
   "source": [
    "mkdir zip_datasets\n",
    "mv 'Diabetes Prediction.zip' zip_datasets\n",
    "# Heart_Disease_Prediction.csv\n",
    "mv archive.zip zip_datasets\n",
    "# Mall_Customers.csv\n",
    "mv archive(1).zip zip_datasets"
   ]
  },
  {
   "cell_type": "markdown",
   "id": "4dea26fe",
   "metadata": {},
   "source": [
    "## Question 2: Diabetes Prediction"
   ]
  },
  {
   "cell_type": "code",
   "execution_count": null,
   "id": "4afd1130",
   "metadata": {},
   "outputs": [],
   "source": [
    "# grab first line(headers) & redirect output into 3 separate files\n",
    "head -n 1 train.csv > file1.csv\n",
    "head -n 1 train.csv > file2.csv\n",
    "head -n 1 train.csv > file3.csv\n",
    "\n",
    "# use 'wc' to count number of entries\n",
    "total_lines=$(wc -1 < train.csv)\n",
    "# divide total lines into 3 parts\n",
    "split_set=$((total_lines / 3))\n",
    "\n",
    "# append the 3 files\n",
    "head -n $((split_set)) train.csv >> file1.csv\n",
    "head -n $((split_set * 2)) train.csv | tail -n ((split_set + 1)) >> file2.csv\n",
    "head -n $total_lines train.csv | tail -n $((split_set * 2 + 1)) >> file3.csv"
   ]
  },
  {
   "cell_type": "markdown",
   "id": "4c514e9b",
   "metadata": {},
   "source": [
    "## Question 3: Heart_Disease_Prediction"
   ]
  },
  {
   "cell_type": "code",
   "execution_count": null,
   "id": "a8ff640f",
   "metadata": {},
   "outputs": [],
   "source": [
    "# grab first line(headers) & redirect output into 2 separate files\n",
    "head -n 1 Heart_Disease_Prediction.csv > presence.csv\n",
    "head -n 1 Heart_Disease_Prediction.csv > absence.csv\n",
    "\n",
    "# find and append 'absence' and 'presence' labels into appropriate files\n",
    "grep 'Presence' Heart_Disease_Prediction.csv >> presence.csv\n",
    "grep 'Absence' Heart_Disease_Prediction.csv >> absence.csv"
   ]
  },
  {
   "cell_type": "markdown",
   "id": "1a4261eb",
   "metadata": {},
   "source": [
    "## Question 4: car_web_scraped_dataset"
   ]
  },
  {
   "cell_type": "code",
   "execution_count": null,
   "id": "1710bb58",
   "metadata": {},
   "outputs": [],
   "source": [
    "# find (grep) fraction of cars that have had no accidents\n",
    "grep -i 'no accidents' cars_24_combined.csv | wc -1\n",
    "# output = 0"
   ]
  },
  {
   "cell_type": "markdown",
   "id": "0eda0dc7",
   "metadata": {},
   "source": [
    "## Question 5: Housing"
   ]
  },
  {
   "cell_type": "code",
   "execution_count": null,
   "id": "d7f6a640",
   "metadata": {},
   "outputs": [],
   "source": [
    "# make replacements and place outputs into new file\n",
    "sed -e 's/yes/1/g' -e 's/no/0/g' -e 's/unfurnished/0/g' -e 's/furnished/1/g' -e 's/semi-furnished/2/g' -e housing.csv > housing2.csv"
   ]
  },
  {
   "cell_type": "markdown",
   "id": "c45fc3a3",
   "metadata": {},
   "source": [
    "## Question 6: Mall_Customers"
   ]
  },
  {
   "cell_type": "code",
   "execution_count": null,
   "id": "90b30289",
   "metadata": {},
   "outputs": [],
   "source": [
    "# create new file with no ID col\n",
    "cut -d ',' -f 2- Mall_Customers.csv > mall_noID.csv"
   ]
  },
  {
   "cell_type": "markdown",
   "id": "e47d1fb1",
   "metadata": {},
   "source": [
    "## Question 7: Mall_Customers cont."
   ]
  },
  {
   "cell_type": "code",
   "execution_count": null,
   "id": "bd2dd372",
   "metadata": {},
   "outputs": [],
   "source": [
    "# sum specific feilds and append to new file\n",
    "cut -d ',' -f 'Research Quality Score, Industry Score, International Outlook, Research Environment Score' | tr ',' '+' | bc > total_score.csv"
   ]
  },
  {
   "cell_type": "markdown",
   "id": "824361e5",
   "metadata": {},
   "source": [
    "## Question 8: cancer patient"
   ]
  },
  {
   "cell_type": "code",
   "execution_count": null,
   "id": "ac5e9887",
   "metadata": {},
   "outputs": [],
   "source": [
    "sort -n -t, -k2 'training.csv' > sort_training_cancer.csv"
   ]
  }
 ],
 "metadata": {
  "kernelspec": {
   "display_name": "Python 3 (ipykernel)",
   "language": "python",
   "name": "python3"
  },
  "language_info": {
   "codemirror_mode": {
    "name": "ipython",
    "version": 3
   },
   "file_extension": ".py",
   "mimetype": "text/x-python",
   "name": "python",
   "nbconvert_exporter": "python",
   "pygments_lexer": "ipython3",
   "version": "3.10.12"
  }
 },
 "nbformat": 4,
 "nbformat_minor": 5
}
